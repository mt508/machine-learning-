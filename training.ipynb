{
  "nbformat": 4,
  "nbformat_minor": 0,
  "metadata": {
    "colab": {
      "provenance": [],
      "authorship_tag": "ABX9TyMHyWXrV1Xr4bitr8GpgmmY",
      "include_colab_link": true
    },
    "kernelspec": {
      "name": "python3",
      "display_name": "Python 3"
    },
    "language_info": {
      "name": "python"
    }
  },
  "cells": [
    {
      "cell_type": "markdown",
      "metadata": {
        "id": "view-in-github",
        "colab_type": "text"
      },
      "source": [
        "<a href=\"https://colab.research.google.com/github/mt508/machine-learning-/blob/main/training.ipynb\" target=\"_parent\"><img src=\"https://colab.research.google.com/assets/colab-badge.svg\" alt=\"Open In Colab\"/></a>"
      ]
    },
    {
      "cell_type": "code",
      "execution_count": 19,
      "metadata": {
        "id": "gGUckPwrtbAV"
      },
      "outputs": [],
      "source": [
        "import numpy as np\n",
        "import matplotlib.pyplot as plt\n",
        "np.random.seed(42)\n",
        "m=100\n",
        "x=2*np.random.rand(m,1)\n",
        "\n",
        "y=4.21509616+2.77011339*x+np.random.randn(m,1)"
      ]
    },
    {
      "cell_type": "code",
      "source": [
        "\n",
        "\n"
      ],
      "metadata": {
        "id": "GfEU_ok2wZDk"
      },
      "execution_count": 20,
      "outputs": []
    },
    {
      "cell_type": "code",
      "source": [
        "plt.scatter(x,y,color='red')\n",
        "plt.xlabel('x')\n",
        "plt.ylabel('y')\n",
        "plt.grid(True)\n",
        "plt.show()"
      ],
      "metadata": {
        "colab": {
          "base_uri": "https://localhost:8080/",
          "height": 449
        },
        "id": "Zu9cP6s9usqh",
        "outputId": "c5171234-b8b2-4dfd-bfce-76bc7314279c"
      },
      "execution_count": 13,
      "outputs": [
        {
          "output_type": "display_data",
          "data": {
            "text/plain": [
              "<Figure size 640x480 with 1 Axes>"
            ],
            "image/png": "[encoded data removed]"
          },
          "metadata": {}
        }
      ]
    },
    {
      "cell_type": "code",
      "source": [
        "from sklearn.preprocessing import add_dummy_feature\n",
        "x_b=add_dummy_feature(x)\n",
        "thethabest=np.linalg.inv(x_b.T@(x_b))@x_b.T@y"
      ],
      "metadata": {
        "id": "5MzQJ8FSv1xi"
      },
      "execution_count": 16,
      "outputs": []
    },
    {
      "cell_type": "code",
      "source": [],
      "metadata": {
        "id": "9iPeZDymxX1s"
      },
      "execution_count": 49,
      "outputs": []
    },
    {
      "cell_type": "code",
      "source": [
        "import numpy as np\n",
        "from sklearn.preprocessing import add_dummy_feature\n",
        "\n",
        "class LinearRegression:\n",
        "    def __init__(self, X=None, Y=None):\n",
        "        self.X = X\n",
        "        self.Y = Y\n",
        "        self.best_fit = None\n",
        "        self.y_prediction = None\n",
        "\n",
        "    def fit(self,X,Y):\n",
        "        x_b = add_dummy_feature(X)\n",
        "        self.best_fit = np.linalg.inv(x_b.T @ x_b) @ x_b.T @ Y\n",
        "        self.y_prediction = x_b @ self.best_fit\n",
        "        return self\n",
        "\n",
        "    def predict(self, X):\n",
        "        X = np.array(X)\n",
        "        if X.ndim == 1:\n",
        "            X = X.reshape(-1, 1)\n",
        "\n",
        "        x_b = add_dummy_feature(X)\n",
        "        y_prediction = x_b @ self.best_fit\n",
        "        return y_prediction\n"
      ],
      "metadata": {
        "id": "PNQKzbyi3Jt0"
      },
      "execution_count": 48,
      "outputs": []
    },
    {
      "cell_type": "code",
      "source": [
        "X = np.array([[1],\n",
        "              [2],\n",
        "              [3],\n",
        "              [4]], dtype=float)"
      ],
      "metadata": {
        "id": "SpBHswYn2U8p"
      },
      "execution_count": 24,
      "outputs": []
    },
    {
      "cell_type": "code",
      "source": [
        "Y = np.array([[2.5],\n",
        "              [3.0],\n",
        "              [3.5],\n",
        "              [4.0]])"
      ],
      "metadata": {
        "id": "CBCo-rlN2oO2"
      },
      "execution_count": 43,
      "outputs": []
    },
    {
      "cell_type": "code",
      "source": [
        "model=LinearRegression()\n",
        "model.fit(X,Y)\n",
        "model.predict([[5]])"
      ],
      "metadata": {
        "colab": {
          "base_uri": "https://localhost:8080/"
        },
        "id": "5yJmVw9q2pPL",
        "outputId": "8f967ce2-2f85-42c3-987e-2705391f9dbc"
      },
      "execution_count": 49,
      "outputs": [
        {
          "output_type": "execute_result",
          "data": {
            "text/plain": [
              "array([[4.5]])"
            ]
          },
          "metadata": {},
          "execution_count": 49
        }
      ]
    }
  ]
}