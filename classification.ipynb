{
  "nbformat": 4,
  "nbformat_minor": 0,
  "metadata": {
    "colab": {
      "provenance": [],
      "authorship_tag": "ABX9TyPg216cOD4FVdi6B4zdr2NN",
      "include_colab_link": true
    },
    "kernelspec": {
      "name": "python3",
      "display_name": "Python 3"
    },
    "language_info": {
      "name": "python"
    }
  },
  "cells": [
    {
      "cell_type": "markdown",
      "metadata": {
        "id": "view-in-github",
        "colab_type": "text"
      },
      "source": [
        "<a href=\"https://colab.research.google.com/github/mt508/machine-learning-/blob/main/classification.ipynb\" target=\"_parent\"><img src=\"https://colab.research.google.com/assets/colab-badge.svg\" alt=\"Open In Colab\"/></a>"
      ]
    },
    {
      "cell_type": "code",
      "source": [
        "import matplotlib.pyplot as plt\n"
      ],
      "metadata": {
        "id": "E0f8CJ5f3IXH"
      },
      "execution_count": 4,
      "outputs": []
    },
    {
      "cell_type": "code",
      "execution_count": 1,
      "metadata": {
        "id": "58YX9i0kHwaV"
      },
      "outputs": [],
      "source": [
        "from sklearn.datasets import fetch_openml\n",
        "mnist= fetch_openml('mnist_784',as_frame=False)"
      ]
    },
    {
      "cell_type": "code",
      "source": [
        "X,Y=mnist.data , mnist.target"
      ],
      "metadata": {
        "id": "VIMwhhe4Mc2a"
      },
      "execution_count": 2,
      "outputs": []
    },
    {
      "cell_type": "code",
      "source": [
        "X.shape"
      ],
      "metadata": {
        "colab": {
          "base_uri": "https://localhost:8080/"
        },
        "id": "Jzxet8HMMoVt",
        "outputId": "dea4ce93-e0b5-4f7c-d0e3-dec873e8ba58"
      },
      "execution_count": 3,
      "outputs": [
        {
          "output_type": "execute_result",
          "data": {
            "text/plain": [
              "(70000, 784)"
            ]
          },
          "metadata": {},
          "execution_count": 3
        }
      ]
    },
    {
      "cell_type": "code",
      "source": [
        "def plot_digit(image_data):\n",
        "  reshape_img=image_data.reshape(28,28)\n",
        "  plt.imshow(reshape_img,cmap='binary')\n",
        "  plt.axis('off')\n",
        ""
      ],
      "metadata": {
        "id": "jYDUslqd25mb"
      },
      "execution_count": 5,
      "outputs": []
    },
    {
      "cell_type": "code",
      "source": [
        "some_digit=X[0]\n",
        "plot_digit(some_digit)"
      ],
      "metadata": {
        "id": "k8YSuD_P3SdL",
        "outputId": "15d26198-7550-455b-baac-35907aad9636",
        "colab": {
          "base_uri": "https://localhost:8080/",
          "height": 406
        }
      },
      "execution_count": 6,
      "outputs": [
        {
          "output_type": "display_data",
          "data": {
            "text/plain": [
              "<Figure size 640x480 with 1 Axes>"
            ],
            "image/png": "[encoded data removed]"
          },
          "metadata": {}
        }
      ]
    },
    {
      "cell_type": "markdown",
      "source": [
        "this is look like 5 let check"
      ],
      "metadata": {
        "id": "mzrypXKO6Jo4"
      }
    },
    {
      "cell_type": "code",
      "source": [
        "Y[0]"
      ],
      "metadata": {
        "id": "oBEPVTrb6NFM",
        "outputId": "f6c44519-bb97-4f6d-e5ff-ae69a5cf7234",
        "colab": {
          "base_uri": "https://localhost:8080/",
          "height": 36
        }
      },
      "execution_count": 7,
      "outputs": [
        {
          "output_type": "execute_result",
          "data": {
            "text/plain": [
              "'5'"
            ],
            "application/vnd.google.colaboratory.intrinsic+json": {
              "type": "string"
            }
          },
          "metadata": {},
          "execution_count": 7
        }
      ]
    },
    {
      "cell_type": "markdown",
      "source": [
        "label 1st image is 5 now it proof this above image is 5"
      ],
      "metadata": {
        "id": "53Y790AW6X2c"
      }
    },
    {
      "cell_type": "code",
      "source": [
        "X_train,X_test,Y_train,Y_test=X[:60000],X[60000:],Y[:60000],Y[60000:]"
      ],
      "metadata": {
        "id": "g8S0Vy_D7Hwa"
      },
      "execution_count": 8,
      "outputs": []
    },
    {
      "cell_type": "markdown",
      "source": [
        "above code we make test set and train set with label 60000 image in train and 10000 in test set"
      ],
      "metadata": {
        "id": "qpN4Bvfc7Rq5"
      }
    }
  ]
}